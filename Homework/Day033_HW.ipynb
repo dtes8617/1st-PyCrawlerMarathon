{
 "cells": [
  {
   "cell_type": "markdown",
   "metadata": {},
   "source": [
    "# 反爬：登入授權模擬\n",
    "\n",
    "* 了解「登入權限機制」的反爬蟲機制\n",
    "* 「登入權限機制」反爬蟲的因應策略"
   ]
  },
  {
   "cell_type": "markdown",
   "metadata": {},
   "source": [
    "## 作業目標\n",
    "\n",
    "* 找一個需要登入的網站試試看，並說明思考流程\n",
    "（如果不知道要用哪個網站的話，可以試試看 https://github.com/new 網址，未登入時會被導向登入頁）\n",
    "\n"
   ]
  },
  {
   "cell_type": "code",
   "execution_count": 9,
   "metadata": {},
   "outputs": [
    {
     "name": "stderr",
     "output_type": "stream",
     "text": [
      "C:\\ProgramData\\Anaconda3\\lib\\site-packages\\urllib3\\connectionpool.py:851: InsecureRequestWarning: Unverified HTTPS request is being made. Adding certificate verification is strongly advised. See: https://urllib3.readthedocs.io/en/latest/advanced-usage.html#ssl-warnings\n",
      "  InsecureRequestWarning)\n",
      "C:\\ProgramData\\Anaconda3\\lib\\site-packages\\urllib3\\connectionpool.py:851: InsecureRequestWarning: Unverified HTTPS request is being made. Adding certificate verification is strongly advised. See: https://urllib3.readthedocs.io/en/latest/advanced-usage.html#ssl-warnings\n",
      "  InsecureRequestWarning)\n"
     ]
    },
    {
     "name": "stdout",
     "output_type": "stream",
     "text": [
      "{\"mrscid\":\"60011180\",\"email\":\"fortunatemaker2603@gmail.com\",\"name\":\"Chi-Kang Su\",\"description\":\"\",\"githuburl\":\"https://github.com/dtes8617/\",\"score\":469,\"createtime\":1574061844268,\"firstLoginTime\":1574061799955,\"lasthomeworktime\":1583068797084,\"state\":1,\"memberphotoUrl\":\"images/avatar.png\",\"finishhomework\":32,\"totalhomework\":40,\"certificate_state\":0,\"rankNo\":94}\n"
     ]
    }
   ],
   "source": [
    "import requests\n",
    "from bs4 import BeautifulSoup\n",
    "\n",
    "rs = requests.session()\n",
    "\n",
    "payload = {\n",
    "    'op': '1',\n",
    "    'email': 'fortunatemaker2603@gmail.com',\n",
    "    'passwd': 'xxxxxxxx'\n",
    "}\n",
    "cookies = {\n",
    "    'accept': 'text/html,application/xhtml+xml,application/xml;q=0.9,image/webp,image/apng,*/*;q=0.8,application/signed-exchange;v=b3;q=0.9',\n",
    "    'accept-encoding': 'gzip, deflate, br',\n",
    "    'accept-language': 'en-GB,en-US;q=0.9,en;q=0.8,zh-CN;q=0.7,zh-TW;q=0.6,zh;q=0.5',\n",
    "    'cache-control': 'max-age=0',\n",
    "    'sec-fetch-dest': 'document',\n",
    "    'sec-fetch-mode': 'navigate',\n",
    "    'sec-fetch-site': 'same-origin',\n",
    "    'sec-fetch-user': '?1',\n",
    "    'upgrade-insecure-requests': '1',\n",
    "    'user-agent': 'Mozilla/5.0 (Windows NT 10.0; Win64; x64) AppleWebKit/537.36 (KHTML, like Gecko) Chrome/80.0.3987.106 Safari/537.36'\n",
    "}\n",
    "res = rs.post(r'https://www.cupoy.com/MemberAction.do',verify = False, data = payload, headers = cookies)\n",
    "res = rs.post(r'https://pycrawler.cupoy.com/MemberAction.do?op=checkLogin',verify = False, data = {'op': 'checkLogin'}, headers = cookies)\n",
    "# res = rs.post(r'https://pycrawler.cupoy.com/DailyTaskAction.do',verify = False, data = {\n",
    "#     'op': 'getDailyTask',\n",
    "#     'taskid': 'D33'\n",
    "#     }, headers = cookies)\n",
    "soup = BeautifulSoup(res.text,'html.parser')\n",
    "rs.close()\n",
    "print(soup.text) "
   ]
  }
 ],
 "metadata": {
  "kernelspec": {
   "display_name": "Python 3",
   "language": "python",
   "name": "python3"
  },
  "language_info": {
   "codemirror_mode": {
    "name": "ipython",
    "version": 3
   },
   "file_extension": ".py",
   "mimetype": "text/x-python",
   "name": "python",
   "nbconvert_exporter": "python",
   "pygments_lexer": "ipython3",
   "version": "3.6.9"
  }
 },
 "nbformat": 4,
 "nbformat_minor": 4
}

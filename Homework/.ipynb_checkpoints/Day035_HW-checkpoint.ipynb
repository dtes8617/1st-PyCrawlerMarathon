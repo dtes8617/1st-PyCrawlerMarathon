{
 "cells": [
  {
   "cell_type": "markdown",
   "metadata": {},
   "source": [
    "# 加速：多線程爬蟲\n",
    "\n",
    "\n",
    "\n",
    "* 了解知乎 API 使用方式與回傳內容\n",
    "* 撰寫程式存取 API 且添加標頭"
   ]
  },
  {
   "cell_type": "markdown",
   "metadata": {},
   "source": [
    "## 作業目標\n",
    "\n",
    "* 找一個之前實作過的爬蟲改用多線程改寫，比較前後時間的差異。\n",
    "\n",
    "\n",
    "\n"
   ]
  },
  {
   "cell_type": "code",
   "execution_count": 1,
   "metadata": {},
   "outputs": [],
   "source": [
    "import requests\n",
    "import random\n",
    "import time\n",
    "import _thread\n",
    "from bs4 import BeautifulSoup"
   ]
  },
  {
   "cell_type": "code",
   "execution_count": 2,
   "metadata": {},
   "outputs": [
    {
     "name": "stderr",
     "output_type": "stream",
     "text": [
      "C:\\ProgramData\\Anaconda3\\lib\\site-packages\\urllib3\\connectionpool.py:851: InsecureRequestWarning: Unverified HTTPS request is being made. Adding certificate verification is strongly advised. See: https://urllib3.readthedocs.io/en/latest/advanced-usage.html#ssl-warnings\n",
      "  InsecureRequestWarning)\n"
     ]
    },
    {
     "data": {
      "text/plain": [
       "['45.175.181.46:32597',\n",
       " '5.39.101.15:8118',\n",
       " '213.58.202.70:54214',\n",
       " '103.251.225.18:35101',\n",
       " '91.200.124.197:30845']"
      ]
     },
     "execution_count": 2,
     "metadata": {},
     "output_type": "execute_result"
    }
   ],
   "source": [
    "proxy_ips = []\n",
    "headers = {\n",
    "#     'accept': 'text/html,application/xhtml+xml,application/xml;q=0.9,image/webp,image/apng,*/*;q=0.8,application/signed-exchange;v=b3;q=0.9',\n",
    "#     'accept-encoding': 'gzip, deflate, br',\n",
    "#     'accept-language': 'en-GB,en-US;q=0.9,en;q=0.8,zh-CN;q=0.7,zh-TW;q=0.6,zh;q=0.5',\n",
    "#     'cache-control': 'max-age=0',\n",
    "#     'cookie': '__cfduid=d8d9c223fb8a443ecf7122b76ea0fed4b1583135726; _ga=GA1.2.201901605.1583135729; _gid=GA1.2.935171615.1583135729; MicrosoftApplicationsTelemetryDeviceId=fc49e7b5-9000-5f45-7593-2d1de713bd74; MicrosoftApplicationsTelemetryFirstLaunchTime=1583135729627; _gat=1',\n",
    "#     'if-modified-since': 'Mon, 02 Mar 2020 08:02:01 GMT',\n",
    "#     'referer': 'http://localhost:8888/lab',\n",
    "#     'sec-fetch-dest': 'document',\n",
    "#     'sec-fetch-mode': 'navigate',\n",
    "#     'sec-fetch-site': 'cross-site',\n",
    "#     'sec-fetch-user': '?1',\n",
    "#     'upgrade-insecure-requests': '1',\n",
    "#     'user-agent': 'Mozilla/5.0 (Windows NT 10.0; Win64; x64) AppleWebKit/537.36 (KHTML, like Gecko) Chrome/80.0.3987.106 Safari/537.36'\n",
    "}\n",
    "res = requests.get(r'https://free-proxy-list.net/', headers = headers, verify = False)\n",
    "soup = BeautifulSoup(res.text)\n",
    "\n",
    "for tr_item in soup.find('tbody').find_all('tr'):\n",
    "    ip = ':'.join([tr_item.find_all('td')[0].text, tr_item.find_all('td')[1].text])\n",
    "    proxy_ips.append(ip)\n",
    "proxy_ips[:5]"
   ]
  },
  {
   "cell_type": "code",
   "execution_count": 3,
   "metadata": {},
   "outputs": [],
   "source": [
    "def test_proxy(proxy_ips):\n",
    "    ip = random.choice(proxy_ips)\n",
    "    print('Use', ip)\n",
    "    try:\n",
    "        resp = requests.get('http://ip.filefab.com/index.php',\n",
    "                        proxies={'http': ip, 'https': ip}, timeout=10)\n",
    "        soup = BeautifulSoup(resp.text, 'html5lib')\n",
    "        print(soup.find('h1', id='ipd').text.strip())\n",
    "    except:\n",
    "        print('Fail')"
   ]
  },
  {
   "cell_type": "code",
   "execution_count": 6,
   "metadata": {},
   "outputs": [
    {
     "name": "stdout",
     "output_type": "stream",
     "text": [
      "Use 46.45.129.16:80\n",
      "Your IP address: 46.45.129.16\n",
      "Use 191.7.208.83:50626\n",
      "Fail\n",
      "Use 13.228.129.219:3128\n",
      "Your IP address: 13.228.129.219\n",
      "Use 134.35.66.196:8080\n",
      "Fail\n",
      "Use 181.112.40.114:55314\n",
      "Fail\n",
      "Use 54.207.38.40:3128\n",
      "Your IP address: 54.207.38.40\n",
      "Use 85.10.219.98:1080\n",
      "Fail\n",
      "Use 203.196.32.61:45305\n",
      "Fail\n",
      "Use 200.150.86.130:3128\n",
      "Fail\n",
      "Use 144.91.74.54:3128\n",
      "Your IP address: 144.91.74.54\n",
      "runtime: 61.13408398628235\n"
     ]
    }
   ],
   "source": [
    "start = time.time()\n",
    "for i in range(10):\n",
    "    test_proxy(proxy_ips)\n",
    "end = time.time()\n",
    "\n",
    "print('runtime: {}'.format(end-start))"
   ]
  },
  {
   "cell_type": "code",
   "execution_count": 9,
   "metadata": {},
   "outputs": [
    {
     "name": "stdout",
     "output_type": "stream",
     "text": [
      "runtime: 0.0\n",
      "Use 139.162.78.109:8080\n",
      "Use 109.195.23.223:34542Use 138.68.240.218:8080\n",
      "\n",
      "Use 194.213.43.166:38170\n",
      "UseUse 176.9.119.170:8080\n",
      "Use 196.14.52.63:35048\n",
      "Use 45.55.23.78:3128\n",
      "Use 213.6.87.158:50587Use 93.87.17.1:53281\n",
      "\n",
      " 159.203.64.91:80\n",
      "Your IP address: 159.203.64.91\n",
      "Your IP address: 176.9.119.170\n",
      "Your IP address: 139.162.78.109\n",
      "Your IP address: 138.68.240.218\n",
      "Your IP address: 45.55.23.78\n",
      "Fail\n",
      "Fail\n",
      "Fail\n",
      "Fail\n",
      "Fail\n"
     ]
    }
   ],
   "source": [
    "start = time.time()\n",
    "for i in range(10):\n",
    "    _thread.start_new_thread(test_proxy, (proxy_ips, ))\n",
    "end = time.time()\n",
    "\n",
    "print('runtime: {}'.format(end-start))"
   ]
  }
 ],
 "metadata": {
  "colab": {
   "name": "homework.ipynb",
   "provenance": []
  },
  "kernelspec": {
   "display_name": "Python 3",
   "language": "python",
   "name": "python3"
  },
  "language_info": {
   "codemirror_mode": {
    "name": "ipython",
    "version": 3
   },
   "file_extension": ".py",
   "mimetype": "text/x-python",
   "name": "python",
   "nbconvert_exporter": "python",
   "pygments_lexer": "ipython3",
   "version": "3.6.9"
  }
 },
 "nbformat": 4,
 "nbformat_minor": 4
}

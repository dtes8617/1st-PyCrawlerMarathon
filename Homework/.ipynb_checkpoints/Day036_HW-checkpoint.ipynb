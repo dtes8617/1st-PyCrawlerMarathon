{
 "cells": [
  {
   "cell_type": "markdown",
   "metadata": {},
   "source": [
    "# 加速：非同步爬蟲\n",
    "\n",
    "* 了解非同步爬蟲加速原理與實作"
   ]
  },
  {
   "cell_type": "markdown",
   "metadata": {},
   "source": [
    "## 作業目標\n",
    "\n",
    "* 比較一下非同步爬蟲跟多線程爬蟲的差異是什麼？各自的優缺點為何？"
   ]
  },
  {
   "cell_type": "markdown",
   "metadata": {},
   "source": [
    "非同步爬蟲是單線程，但充分利用單線程會產生的空餘時間。舉例來說，我們提交 requests 給網頁並等待回應的同時，可以在把這個等待的時間拿去再送一個 requests。這樣可以充分利用時間，進而縮短整個程式的運行。但也因為需要規定什麼時候要分支出去，使得撰寫時變得更為複雜。且必須注意是否有衝突以及匯聚的問題。\n",
    "\n",
    "多線程則是把同樣工作分包給不同核心去處理，處理速度會往上提升，但也因為占用了電腦實際的核心，有可能會有資源占用的問題。如果未妥善在程式中分配，可能導致系統出錯。"
   ]
  },
  {
   "cell_type": "code",
   "execution_count": null,
   "metadata": {},
   "outputs": [],
   "source": []
  }
 ],
 "metadata": {
  "colab": {
   "name": "homework.ipynb",
   "provenance": []
  },
  "kernelspec": {
   "display_name": "Python 3",
   "language": "python",
   "name": "python3"
  },
  "language_info": {
   "codemirror_mode": {
    "name": "ipython",
    "version": 3
   },
   "file_extension": ".py",
   "mimetype": "text/x-python",
   "name": "python",
   "nbconvert_exporter": "python",
   "pygments_lexer": "ipython3",
   "version": "3.6.9"
  }
 },
 "nbformat": 4,
 "nbformat_minor": 4
}

{
 "cells": [
  {
   "cell_type": "markdown",
   "metadata": {},
   "source": [
    "# 範例\n",
    "\n",
    "以正確的副檔名下載網頁中的圖片\n",
    "範例網頁:https://www.ptt.cc/bbs/Beauty/M.1574854555.A.E5C.html\n",
    "\n",
    "Note：因為 PTT 會詢問「是否滿 18 歲」，這邊可以用 cookies 繞過\n",
    "\n",
    "`requests.get(URL, cookies={'over18': '1'}`"
   ]
  },
  {
   "cell_type": "code",
   "execution_count": 1,
   "metadata": {},
   "outputs": [],
   "source": [
    "import requests\n",
    "import os\n",
    "\n",
    "from bs4 import BeautifulSoup\n",
    "from PIL import Image"
   ]
  },
  {
   "cell_type": "code",
   "execution_count": 2,
   "metadata": {},
   "outputs": [],
   "source": [
    "url = 'https://www.ptt.cc/bbs/Beauty/M.1574854555.A.E5C.html'\n",
    "resp = requests.get(url, cookies={'over18': '1'})\n",
    "soup = BeautifulSoup(resp.text)"
   ]
  },
  {
   "cell_type": "code",
   "execution_count": 3,
   "metadata": {},
   "outputs": [
    {
     "name": "stdout",
     "output_type": "stream",
     "text": [
      "Save image downloads/Yvqa9MC.jpg.jpeg\n",
      "Save image downloads/4aqPUFf.jpg.jpeg\n",
      "Save image downloads/hG9seBk.jpg.jpeg\n",
      "Save image downloads/2M5b3z4.jpg.jpeg\n",
      "Save image downloads/ncyh1pY.jpg.jpeg\n",
      "Save image downloads/Z8L1vqU.jpg.jpeg\n",
      "Save image downloads/tJyl8gf.jpg.jpeg\n",
      "Save image downloads/hwry1vC.jpg.jpeg\n",
      "Save image downloads/WaPmVsl.jpg.jpeg\n",
      "Save image downloads/u3a9fBO.jpg.jpeg\n"
     ]
    }
   ],
   "source": [
    "# 決定要儲存的資料夾\n",
    "output_dir = 'downloads'\n",
    "\n",
    "# 假如資料夾不存在就新增一個資料夾\n",
    "if not os.path.exists(output_dir):\n",
    "    os.makedirs(output_dir)\n",
    "\n",
    "# 定位所有圖片的 tag\n",
    "image_tags = soup.find(id='main-content').findChildren('a', recursive=False)\n",
    "for img_tag in image_tags:\n",
    "    # 取得所有圖片在第三方服務的 id\n",
    "    if 'imgur' not in img_tag['href']:\n",
    "        continue\n",
    "    img_id = img_tag['href'].split('/')[-1]\n",
    "    # 組合圖片而非網站的網址\n",
    "    img_url = 'https://i.imgur.com/{}.jpg'.format(img_id)\n",
    "    # 對圖片送出請求\n",
    "    with requests.get(img_url, stream=True) as r:\n",
    "        r.raise_for_status()\n",
    "        # 檢查圖片副檔名\n",
    "        img = Image.open(r.raw)\n",
    "        img_savename = '{outdir}/{img_id}.{img_ext}'.format(\n",
    "            outdir=output_dir, img_id=img_id, img_ext=img.format.lower())\n",
    "        img.save(img_savename)\n",
    "        print('Save image {}'.format(img_savename))"
   ]
  },
  {
   "cell_type": "code",
   "execution_count": 4,
   "metadata": {},
   "outputs": [],
   "source": [
    "test = soup.find(id='main-content')"
   ]
  },
  {
   "cell_type": "code",
   "execution_count": 16,
   "metadata": {},
   "outputs": [
    {
     "data": {
      "text/plain": [
       "[<a href=\"https://www.oricon.co.jp/special/53912/\" rel=\"nofollow\" target=\"_blank\">https://www.oricon.co.jp/special/53912/</a>,\n",
       " <a href=\"https://i.imgur.com/Yvqa9MC.jpg\" rel=\"nofollow\" target=\"_blank\">https://i.imgur.com/Yvqa9MC.jpg</a>,\n",
       " <a href=\"https://i.imgur.com/4aqPUFf.jpg\" rel=\"nofollow\" target=\"_blank\">https://i.imgur.com/4aqPUFf.jpg</a>,\n",
       " <a href=\"https://i.imgur.com/hG9seBk.jpg\" rel=\"nofollow\" target=\"_blank\">https://i.imgur.com/hG9seBk.jpg</a>,\n",
       " <a href=\"https://i.imgur.com/2M5b3z4.jpg\" rel=\"nofollow\" target=\"_blank\">https://i.imgur.com/2M5b3z4.jpg</a>,\n",
       " <a href=\"https://i.imgur.com/ncyh1pY.jpg\" rel=\"nofollow\" target=\"_blank\">https://i.imgur.com/ncyh1pY.jpg</a>,\n",
       " <a href=\"https://i.imgur.com/Z8L1vqU.jpg\" rel=\"nofollow\" target=\"_blank\">https://i.imgur.com/Z8L1vqU.jpg</a>,\n",
       " <a href=\"https://i.imgur.com/tJyl8gf.jpg\" rel=\"nofollow\" target=\"_blank\">https://i.imgur.com/tJyl8gf.jpg</a>,\n",
       " <a href=\"https://i.imgur.com/hwry1vC.jpg\" rel=\"nofollow\" target=\"_blank\">https://i.imgur.com/hwry1vC.jpg</a>,\n",
       " <a href=\"https://i.imgur.com/WaPmVsl.jpg\" rel=\"nofollow\" target=\"_blank\">https://i.imgur.com/WaPmVsl.jpg</a>,\n",
       " <a href=\"https://i.imgur.com/u3a9fBO.jpg\" rel=\"nofollow\" target=\"_blank\">http://i.imgur.com/u3a9fBO.jpg</a>,\n",
       " <a href=\"https://www.ptt.cc/bbs/Beauty/M.1574854555.A.E5C.html\" rel=\"nofollow\" target=\"_blank\"><span class=\"f2\">https://www.ptt.cc/bbs/Beauty/M.1574854555.A.E5C.html</span></a>]"
      ]
     },
     "execution_count": 16,
     "metadata": {},
     "output_type": "execute_result"
    }
   ],
   "source": [
    "test.find_all('a', recursive = False)"
   ]
  },
  {
   "cell_type": "code",
   "execution_count": 13,
   "metadata": {},
   "outputs": [
    {
     "data": {
      "text/plain": [
       "[<a href=\"https://www.oricon.co.jp/special/53912/\" rel=\"nofollow\" target=\"_blank\">https://www.oricon.co.jp/special/53912/</a>,\n",
       " <a href=\"https://i.imgur.com/Yvqa9MC.jpg\" rel=\"nofollow\" target=\"_blank\">https://i.imgur.com/Yvqa9MC.jpg</a>,\n",
       " <a href=\"https://i.imgur.com/4aqPUFf.jpg\" rel=\"nofollow\" target=\"_blank\">https://i.imgur.com/4aqPUFf.jpg</a>,\n",
       " <a href=\"https://i.imgur.com/hG9seBk.jpg\" rel=\"nofollow\" target=\"_blank\">https://i.imgur.com/hG9seBk.jpg</a>,\n",
       " <a href=\"https://i.imgur.com/2M5b3z4.jpg\" rel=\"nofollow\" target=\"_blank\">https://i.imgur.com/2M5b3z4.jpg</a>,\n",
       " <a href=\"https://i.imgur.com/ncyh1pY.jpg\" rel=\"nofollow\" target=\"_blank\">https://i.imgur.com/ncyh1pY.jpg</a>,\n",
       " <a href=\"https://i.imgur.com/Z8L1vqU.jpg\" rel=\"nofollow\" target=\"_blank\">https://i.imgur.com/Z8L1vqU.jpg</a>,\n",
       " <a href=\"https://i.imgur.com/tJyl8gf.jpg\" rel=\"nofollow\" target=\"_blank\">https://i.imgur.com/tJyl8gf.jpg</a>,\n",
       " <a href=\"https://i.imgur.com/hwry1vC.jpg\" rel=\"nofollow\" target=\"_blank\">https://i.imgur.com/hwry1vC.jpg</a>,\n",
       " <a href=\"https://i.imgur.com/WaPmVsl.jpg\" rel=\"nofollow\" target=\"_blank\">https://i.imgur.com/WaPmVsl.jpg</a>,\n",
       " <a href=\"https://i.imgur.com/u3a9fBO.jpg\" rel=\"nofollow\" target=\"_blank\">http://i.imgur.com/u3a9fBO.jpg</a>,\n",
       " <a href=\"https://www.ptt.cc/bbs/Beauty/M.1574854555.A.E5C.html\" rel=\"nofollow\" target=\"_blank\"><span class=\"f2\">https://www.ptt.cc/bbs/Beauty/M.1574854555.A.E5C.html</span></a>]"
      ]
     },
     "execution_count": 13,
     "metadata": {},
     "output_type": "execute_result"
    }
   ],
   "source": [
    "test.findChildren('a', recursive=False)"
   ]
  },
  {
   "cell_type": "code",
   "execution_count": 12,
   "metadata": {},
   "outputs": [
    {
     "data": {
      "text/plain": [
       "[<a href=\"https://www.oricon.co.jp/special/53912/\" rel=\"nofollow\" target=\"_blank\">https://www.oricon.co.jp/special/53912/</a>,\n",
       " <a href=\"https://i.imgur.com/Yvqa9MC.jpg\" rel=\"nofollow\" target=\"_blank\">https://i.imgur.com/Yvqa9MC.jpg</a>,\n",
       " <a href=\"//imgur.com/Yvqa9MC\"></a>,\n",
       " <a href=\"https://i.imgur.com/4aqPUFf.jpg\" rel=\"nofollow\" target=\"_blank\">https://i.imgur.com/4aqPUFf.jpg</a>,\n",
       " <a href=\"//imgur.com/4aqPUFf\"></a>,\n",
       " <a href=\"https://i.imgur.com/hG9seBk.jpg\" rel=\"nofollow\" target=\"_blank\">https://i.imgur.com/hG9seBk.jpg</a>,\n",
       " <a href=\"//imgur.com/hG9seBk\"></a>,\n",
       " <a href=\"https://i.imgur.com/2M5b3z4.jpg\" rel=\"nofollow\" target=\"_blank\">https://i.imgur.com/2M5b3z4.jpg</a>,\n",
       " <a href=\"//imgur.com/2M5b3z4\"></a>,\n",
       " <a href=\"https://i.imgur.com/ncyh1pY.jpg\" rel=\"nofollow\" target=\"_blank\">https://i.imgur.com/ncyh1pY.jpg</a>,\n",
       " <a href=\"//imgur.com/ncyh1pY\"></a>,\n",
       " <a href=\"https://i.imgur.com/Z8L1vqU.jpg\" rel=\"nofollow\" target=\"_blank\">https://i.imgur.com/Z8L1vqU.jpg</a>,\n",
       " <a href=\"//imgur.com/Z8L1vqU\"></a>,\n",
       " <a href=\"https://i.imgur.com/tJyl8gf.jpg\" rel=\"nofollow\" target=\"_blank\">https://i.imgur.com/tJyl8gf.jpg</a>,\n",
       " <a href=\"//imgur.com/tJyl8gf\"></a>,\n",
       " <a href=\"https://i.imgur.com/hwry1vC.jpg\" rel=\"nofollow\" target=\"_blank\">https://i.imgur.com/hwry1vC.jpg</a>,\n",
       " <a href=\"//imgur.com/hwry1vC\"></a>,\n",
       " <a href=\"https://i.imgur.com/WaPmVsl.jpg\" rel=\"nofollow\" target=\"_blank\">https://i.imgur.com/WaPmVsl.jpg</a>,\n",
       " <a href=\"//imgur.com/WaPmVsl\"></a>,\n",
       " <a href=\"https://i.imgur.com/u3a9fBO.jpg\" rel=\"nofollow\" target=\"_blank\">http://i.imgur.com/u3a9fBO.jpg</a>,\n",
       " <a href=\"//imgur.com/u3a9fBO\"></a>,\n",
       " <a href=\"https://www.ptt.cc/bbs/Beauty/M.1574854555.A.E5C.html\" rel=\"nofollow\" target=\"_blank\"><span class=\"f2\">https://www.ptt.cc/bbs/Beauty/M.1574854555.A.E5C.html</span></a>]"
      ]
     },
     "execution_count": 12,
     "metadata": {},
     "output_type": "execute_result"
    }
   ],
   "source": [
    "test.findChildren('a')"
   ]
  },
  {
   "cell_type": "code",
   "execution_count": null,
   "metadata": {},
   "outputs": [],
   "source": []
  }
 ],
 "metadata": {
  "kernelspec": {
   "display_name": "Python 3",
   "language": "python",
   "name": "python3"
  },
  "language_info": {
   "codemirror_mode": {
    "name": "ipython",
    "version": 3
   },
   "file_extension": ".py",
   "mimetype": "text/x-python",
   "name": "python",
   "nbconvert_exporter": "python",
   "pygments_lexer": "ipython3",
   "version": "3.6.9"
  }
 },
 "nbformat": 4,
 "nbformat_minor": 4
}

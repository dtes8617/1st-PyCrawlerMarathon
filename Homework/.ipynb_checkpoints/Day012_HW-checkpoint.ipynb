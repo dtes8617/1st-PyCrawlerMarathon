{
 "cells": [
  {
   "cell_type": "markdown",
   "metadata": {},
   "source": [
    "# Ettoday 網路爬蟲實作練習\n",
    "\n",
    "\n",
    "* 能夠利用 Request + BeatifulSour 撰寫爬蟲，並存放到合適的資料結構\n"
   ]
  },
  {
   "cell_type": "markdown",
   "metadata": {},
   "source": [
    "## 作業目標\n",
    "\n",
    "根據範例 ，完成以下問題：\n",
    "\n",
    "* ① 取出今天所有的發文\n",
    "* ② 如果想要依照類別分類，怎麼儲存會比較好？\n",
    "* ③ 哪一個類別的文章最多\n",
    "\n",
    "\n"
   ]
  },
  {
   "cell_type": "markdown",
   "metadata": {},
   "source": [
    "### ① 取出今天所有的發文"
   ]
  },
  {
   "cell_type": "code",
   "execution_count": 43,
   "metadata": {},
   "outputs": [],
   "source": [
    "import requests\n",
    "from bs4 import BeautifulSoup\n",
    "import datetime\n",
    "\n",
    "resp = requests.get('https://www.ettoday.net/news/news-list-{}-0.htm'.format(str(datetime.date.today())))\n",
    "\n",
    "soup = BeautifulSoup(resp.text)\n",
    "content = soup.find('div', class_='part_list_2').find_all('h3')"
   ]
  },
  {
   "cell_type": "markdown",
   "metadata": {},
   "source": [
    "### ② 如果想要依照類別分類，怎麼儲存會比較好？"
   ]
  },
  {
   "cell_type": "code",
   "execution_count": 44,
   "metadata": {},
   "outputs": [
    {
     "data": {
      "text/html": [
       "<div>\n",
       "<style scoped>\n",
       "    .dataframe tbody tr th:only-of-type {\n",
       "        vertical-align: middle;\n",
       "    }\n",
       "\n",
       "    .dataframe tbody tr th {\n",
       "        vertical-align: top;\n",
       "    }\n",
       "\n",
       "    .dataframe thead th {\n",
       "        text-align: right;\n",
       "    }\n",
       "</style>\n",
       "<table border=\"1\" class=\"dataframe\">\n",
       "  <thead>\n",
       "    <tr style=\"text-align: right;\">\n",
       "      <th></th>\n",
       "      <th>date</th>\n",
       "      <th>class</th>\n",
       "      <th>title</th>\n",
       "    </tr>\n",
       "  </thead>\n",
       "  <tbody>\n",
       "    <tr>\n",
       "      <th>0</th>\n",
       "      <td>2019/12/15 23:09</td>\n",
       "      <td>影劇</td>\n",
       "      <td>蔡桃貴看到「蔡阿嘎在電視裡」　下秒真實反應Q炸！</td>\n",
       "    </tr>\n",
       "    <tr>\n",
       "      <th>1</th>\n",
       "      <td>2019/12/15 23:07</td>\n",
       "      <td>時尚</td>\n",
       "      <td>「冰冰霜」超殺特價只到12／16中午！讓肌膚變亮好上妝　4個必買理由</td>\n",
       "    </tr>\n",
       "    <tr>\n",
       "      <th>2</th>\n",
       "      <td>2019/12/15 23:00</td>\n",
       "      <td>體育</td>\n",
       "      <td>桌球年終賽／霸主中國包攬4金　唯女雙由日本美少女拿下</td>\n",
       "    </tr>\n",
       "    <tr>\n",
       "      <th>3</th>\n",
       "      <td>2019/12/15 23:00</td>\n",
       "      <td>影劇</td>\n",
       "      <td>公視1.55億新劇《傀儡花》險釀大火！　森林拍戲「人走了留3火堆」目擊者氣炸</td>\n",
       "    </tr>\n",
       "    <tr>\n",
       "      <th>4</th>\n",
       "      <td>2019/12/15 23:00</td>\n",
       "      <td>網搜</td>\n",
       "      <td>羨慕女生月薪3萬狂出國！鄉民嘆「30歲去不起日本」　他點出2習慣超關鍵</td>\n",
       "    </tr>\n",
       "  </tbody>\n",
       "</table>\n",
       "</div>"
      ],
      "text/plain": [
       "               date class                                   title\n",
       "0  2019/12/15 23:09    影劇                蔡桃貴看到「蔡阿嘎在電視裡」　下秒真實反應Q炸！\n",
       "1  2019/12/15 23:07    時尚      「冰冰霜」超殺特價只到12／16中午！讓肌膚變亮好上妝　4個必買理由\n",
       "2  2019/12/15 23:00    體育              桌球年終賽／霸主中國包攬4金　唯女雙由日本美少女拿下\n",
       "3  2019/12/15 23:00    影劇  公視1.55億新劇《傀儡花》險釀大火！　森林拍戲「人走了留3火堆」目擊者氣炸\n",
       "4  2019/12/15 23:00    網搜     羨慕女生月薪3萬狂出國！鄉民嘆「30歲去不起日本」　他點出2習慣超關鍵"
      ]
     },
     "execution_count": 44,
     "metadata": {},
     "output_type": "execute_result"
    }
   ],
   "source": [
    "import pandas as pd\n",
    "\n",
    "article = pd.DataFrame(columns=['date', 'class', 'title'])\n",
    "for c in content:\n",
    "    d = {}\n",
    "    d['date'] = c.find('span', class_='date').text\n",
    "    d['class'] = c.em.text\n",
    "    d['title'] = c.a.text\n",
    "    article = article.append(d, ignore_index=True)\n",
    "    \n",
    "article.head()"
   ]
  },
  {
   "cell_type": "markdown",
   "metadata": {},
   "source": [
    "### ③ 哪一個類別的文章最多"
   ]
  },
  {
   "cell_type": "code",
   "execution_count": 53,
   "metadata": {},
   "outputs": [
    {
     "name": "stdout",
     "output_type": "stream",
     "text": [
      "文章分佈如下：\n",
      "體育      22\n",
      "影劇      21\n",
      "政治      14\n",
      "時尚       6\n",
      "網搜       6\n",
      "國際       5\n",
      "地方       5\n",
      "健康       4\n",
      "房產雲      4\n",
      "寵物動物     4\n",
      "社會       3\n",
      "ET車雲     2\n",
      "旅遊       2\n",
      "生活       2\n",
      "Name: class, dtype: int64\n",
      "可以看出 體育 類別的文章最多， 共有 22 篇\n"
     ]
    }
   ],
   "source": [
    "print('文章分佈如下：\\n{}\\n可以看出 {} 類別的文章最多， 共有 {} 篇'\\\n",
    "      .format(article['class'].value_counts(),\n",
    "             article['class'].value_counts().index[0],\n",
    "             article['class'].value_counts()[0]))"
   ]
  }
 ],
 "metadata": {
  "kernelspec": {
   "display_name": "Python 3",
   "language": "python",
   "name": "python3"
  },
  "language_info": {
   "codemirror_mode": {
    "name": "ipython",
    "version": 3
   },
   "file_extension": ".py",
   "mimetype": "text/x-python",
   "name": "python",
   "nbconvert_exporter": "python",
   "pygments_lexer": "ipython3",
   "version": "3.7.4"
  }
 },
 "nbformat": 4,
 "nbformat_minor": 4
}

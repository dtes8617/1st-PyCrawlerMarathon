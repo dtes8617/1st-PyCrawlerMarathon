{
 "cells": [
  {
   "cell_type": "markdown",
   "metadata": {
    "colab_type": "text",
    "id": "I8CoX4R7VoCd"
   },
   "source": [
    "# 反爬：代理伺服器/IP\n",
    "\n",
    "* 了解「IP 黑/白名單」的反爬蟲機制\n",
    "* 「IP 黑/白名單」反爬蟲的因應策略"
   ]
  },
  {
   "cell_type": "markdown",
   "metadata": {
    "colab_type": "text",
    "id": "n-3DZ_r5VoCe"
   },
   "source": [
    "## 作業目標\n",
    "\n",
    "* 目前程式中的 proxy_ips 是手動輸入的，請根據 https://free-proxy-list.net/ 寫一個可自動化抓取可用 Proxy 的 proxy_ips。\n",
    "\n",
    "\n"
   ]
  },
  {
   "cell_type": "code",
   "execution_count": 60,
   "metadata": {},
   "outputs": [],
   "source": [
    "import requests\n",
    "import random\n",
    "from bs4 import BeautifulSoup"
   ]
  },
  {
   "cell_type": "code",
   "execution_count": 58,
   "metadata": {
    "colab": {},
    "colab_type": "code",
    "id": "iny-9heBVoCf"
   },
   "outputs": [
    {
     "name": "stderr",
     "output_type": "stream",
     "text": [
      "C:\\ProgramData\\Anaconda3\\lib\\site-packages\\urllib3\\connectionpool.py:851: InsecureRequestWarning: Unverified HTTPS request is being made. Adding certificate verification is strongly advised. See: https://urllib3.readthedocs.io/en/latest/advanced-usage.html#ssl-warnings\n",
      "  InsecureRequestWarning)\n"
     ]
    },
    {
     "data": {
      "text/plain": [
       "['208.163.39.218:53281',\n",
       " '185.2.100.121:3128',\n",
       " '186.46.136.70:43816',\n",
       " '112.118.155.28:3128',\n",
       " '190.128.26.98:56204']"
      ]
     },
     "execution_count": 58,
     "metadata": {},
     "output_type": "execute_result"
    }
   ],
   "source": [
    "proxy_ips = []\n",
    "headers = {\n",
    "#     'accept': 'text/html,application/xhtml+xml,application/xml;q=0.9,image/webp,image/apng,*/*;q=0.8,application/signed-exchange;v=b3;q=0.9',\n",
    "#     'accept-encoding': 'gzip, deflate, br',\n",
    "#     'accept-language': 'en-GB,en-US;q=0.9,en;q=0.8,zh-CN;q=0.7,zh-TW;q=0.6,zh;q=0.5',\n",
    "#     'cache-control': 'max-age=0',\n",
    "#     'cookie': '__cfduid=d8d9c223fb8a443ecf7122b76ea0fed4b1583135726; _ga=GA1.2.201901605.1583135729; _gid=GA1.2.935171615.1583135729; MicrosoftApplicationsTelemetryDeviceId=fc49e7b5-9000-5f45-7593-2d1de713bd74; MicrosoftApplicationsTelemetryFirstLaunchTime=1583135729627; _gat=1',\n",
    "#     'if-modified-since': 'Mon, 02 Mar 2020 08:02:01 GMT',\n",
    "#     'referer': 'http://localhost:8888/lab',\n",
    "#     'sec-fetch-dest': 'document',\n",
    "#     'sec-fetch-mode': 'navigate',\n",
    "#     'sec-fetch-site': 'cross-site',\n",
    "#     'sec-fetch-user': '?1',\n",
    "#     'upgrade-insecure-requests': '1',\n",
    "#     'user-agent': 'Mozilla/5.0 (Windows NT 10.0; Win64; x64) AppleWebKit/537.36 (KHTML, like Gecko) Chrome/80.0.3987.106 Safari/537.36'\n",
    "}\n",
    "res = requests.get(r'https://free-proxy-list.net/', headers = headers, verify = False)\n",
    "soup = BeautifulSoup(res.text)\n",
    "\n",
    "for tr_item in soup.find('tbody').find_all('tr'):\n",
    "    ip = ':'.join([tr_item.find_all('td')[0].text, tr_item.find_all('td')[1].text])\n",
    "    proxy_ips.append(ip)\n",
    "proxy_ips[:5]"
   ]
  },
  {
   "cell_type": "code",
   "execution_count": 61,
   "metadata": {
    "colab": {},
    "colab_type": "code",
    "id": "75dIsHjiVoCi"
   },
   "outputs": [
    {
     "name": "stdout",
     "output_type": "stream",
     "text": [
      "Use 208.163.39.218:53281\n",
      "Fail\n",
      "Use 191.248.48.213:8080\n",
      "Fail\n",
      "Use 202.131.234.142:46764\n",
      "Fail\n",
      "Use 62.201.238.250:8080\n",
      "Fail\n",
      "Use 213.6.158.194:80\n",
      "Fail\n",
      "Use 154.72.197.106:49904\n",
      "Fail\n",
      "Use 80.90.88.147:33617\n",
      "Fail\n",
      "Use 176.113.157.149:31195\n",
      "Fail\n",
      "Use 36.89.76.119:43810\n",
      "Fail\n",
      "Use 109.74.132.190:55838\n",
      "Your IP address: 109.74.132.190\n"
     ]
    }
   ],
   "source": [
    "for i in range(10):\n",
    "    ip = random.choice(proxy_ips)\n",
    "    print('Use', ip)\n",
    "    try:\n",
    "        resp = requests.get('http://ip.filefab.com/index.php',\n",
    "                        proxies={'http': ip, 'https': ip}, timeout=10)\n",
    "        soup = BeautifulSoup(resp.text, 'html5lib')\n",
    "        print(soup.find('h1', id='ipd').text.strip())\n",
    "    except:\n",
    "        print('Fail')"
   ]
  }
 ],
 "metadata": {
  "colab": {
   "name": "homework.ipynb",
   "provenance": []
  },
  "kernelspec": {
   "display_name": "Python 3",
   "language": "python",
   "name": "python3"
  },
  "language_info": {
   "codemirror_mode": {
    "name": "ipython",
    "version": 3
   },
   "file_extension": ".py",
   "mimetype": "text/x-python",
   "name": "python",
   "nbconvert_exporter": "python",
   "pygments_lexer": "ipython3",
   "version": "3.6.9"
  }
 },
 "nbformat": 4,
 "nbformat_minor": 4
}
